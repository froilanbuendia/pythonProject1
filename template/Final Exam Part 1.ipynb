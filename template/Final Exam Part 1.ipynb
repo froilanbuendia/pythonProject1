{
 "cells": [
  {
   "cell_type": "markdown",
   "id": "3a90502e",
   "metadata": {},
   "source": [
    "# CECS 229 Final Exam Part 1\n",
    "\n",
    "#### Due Date: \n",
    "\n",
    "Tuesday, 5/10 @ 11:59 PM\n",
    "\n",
    "#### Worth:\n",
    "\n",
    "15% of the Final Exam grade category\n",
    "\n",
    "#### Submission Instructions:\n",
    "\n",
    "To receive credit for this assignment you must submit the following by the due date:\n",
    "\n",
    "1. **To the BB Dropbox Folder:** this completed .ipynb file\n",
    "\n",
    "2. **To CodePost:** this file converted to a Python script named `final.py`\n",
    "\n",
    "----------------------------------------------------------\n",
    "\n",
    "#### Background:\n",
    "\n",
    "In this programming assignment, you will be responsible for implementing a solver for the system of linear equations $A \\overrightarrow{x} = \\overrightarrow{b}$ where \n",
    "\n",
    "* $A$ is an $n \\times n$ matrix whose columns are linearly independent\n",
    "* $\\overrightarrow{x} \\in \\mathbb{R}^n$\n",
    "* $\\overrightarrow{b} \\in \\mathbb{R}^n$\n",
    "\n",
    "To implement the solver, you must apply the following theorem:\n",
    "\n",
    "**THM |  QR-Factorization** \n",
    "\n",
    "If $A \\in \\mathbb{F}_{m \\times n}$ matrix with linearly independent columns $\\overrightarrow{a_1}, \\overrightarrow{a_2}, \\dots \\overrightarrow{a_n}$, then there exists,\n",
    "\n",
    "1. an $m \\times n$ matrix $Q$ whose columns $\\overrightarrow{u_1}, \\overrightarrow{u_2}, \\dots, \\overrightarrow{u_n}$ are orthonormal, and \n",
    "2. an $n \\times n$ matrix $R$ that is upper triangular and whose entries are defined by,\n",
    "$r_{ij} = \\begin{cases}\n",
    "\\langle \\overrightarrow{u_i}, \\overrightarrow{a_j} \\rangle & \\text{ for } i \\leq j \\\\\n",
    "0 & \\text{ for } i > j \\\\\n",
    "\\end{cases}$\n",
    "\n",
    "such that $A = QR$.  This referred to as the QR factorization (or decomposition) of matrix $A$.\n",
    "\n",
    "\n",
    "To find matrices $Q$ and $R$ from the QR Factorization Theorem, we apply Gram-Schimdt process to the columns of $A$.  Then,\n",
    "\n",
    "* the columns of $Q$ will be the orthonormal vectors $\\overrightarrow{u_1}, \\overrightarrow{u_2}, \\dots, \\overrightarrow{u_n}$ returned by the Gram Schimdt process, and\n",
    "* the entries $r_{ij}$ of $R$ will be computed using each column $\\overrightarrow{u_i}$ as defined in the theorem.\n",
    "\n",
    "Luckily, you do not need to implement this process.  A Python library called `numpy` contains a module called `linalg` with a function called `qr()` that returns the matrices $Q$ and $R$ in the QR factorization of a matrix $A$.  Try running the following cell to see how it works."
   ]
  },
  {
   "cell_type": "code",
   "execution_count": null,
   "id": "15852030",
   "metadata": {},
   "outputs": [],
   "source": [
    "# first copy-paste your Vec and Matrix classes here"
   ]
  },
  {
   "cell_type": "code",
   "execution_count": null,
   "id": "8f0b2afe",
   "metadata": {},
   "outputs": [],
   "source": [
    "import numpy as np\n",
    "\n",
    "A = [[1, 1, 0], [0, 1, 1], [1, 0, 1]]\n",
    "Q, R = np.linalg.qr(A)\n",
    "\n",
    "print(\"Q =\\n\", Q)\n",
    "print(\"\\nR =\\n\", R)\n",
    "\n",
    "print(\"\\n\\nOriginal A =\\n\", Matrix(A))\n",
    "print(\"\\nQ * R =\\n\", Matrix(Q) * Matrix(R))"
   ]
  },
  {
   "cell_type": "markdown",
   "id": "a324068e",
   "metadata": {},
   "source": [
    "-----------------------------------------------------\n",
    "\n",
    "#### Your Task:\n",
    "\n",
    "Assuming $A \\in \\mathbb{R}_{n \\times n}$ is a `Matrix` object, and $\\overrightarrow{b} \\in \\mathbb{R}^n$ is a `Vec` object, implement a function `solve_qr(A, b)` that uses the QR-factorization of $A$ to compute and return the solution to the system $A\\overrightarrow{x} =  \\overrightarrow{b}$.  \n",
    "\n",
    "Hints:\n",
    "\n",
    "1.  If $A = QR$, then $A\\overrightarrow{x} = \\overrightarrow{b}$ becomes $QR\\overrightarrow{x} = \\overrightarrow{b}$.  What happens if we multiply both sides of the equation by the transpose of $Q$? i.e., What does $Q^tQR\\overrightarrow{x} = Q^t\\overrightarrow{b}$ simplify to?\n",
    "2.  Part of your code for the solvers in CA #6 will come in handy."
   ]
  },
  {
   "cell_type": "code",
   "execution_count": null,
   "id": "e0b0b0bc",
   "metadata": {},
   "outputs": [],
   "source": [
    "def solve_qr(A, b):\n",
    "    # todo\n",
    "    pass"
   ]
  },
  {
   "cell_type": "code",
   "execution_count": null,
   "id": "39df78c5",
   "metadata": {
    "scrolled": true
   },
   "outputs": [],
   "source": [
    "\"\"\"TESTER CELL\"\"\"\n",
    "\n",
    "A = Matrix([[2, -2, 18], [2, 1, 0], [1, 2, 0]])\n",
    "x_true = Vec([3, 4, 5])\n",
    "b = A * x_true\n",
    "print(\"Expected:\", x_true)\n",
    "\n",
    "x = solve_qr(A, b)\n",
    "print(\"Returned:\", x)"
   ]
  }
 ],
 "metadata": {
  "kernelspec": {
   "display_name": "Python 3 (ipykernel)",
   "language": "python",
   "name": "python3"
  },
  "language_info": {
   "codemirror_mode": {
    "name": "ipython",
    "version": 3
   },
   "file_extension": ".py",
   "mimetype": "text/x-python",
   "name": "python",
   "nbconvert_exporter": "python",
   "pygments_lexer": "ipython3",
   "version": "3.8.8"
  }
 },
 "nbformat": 4,
 "nbformat_minor": 5
}
